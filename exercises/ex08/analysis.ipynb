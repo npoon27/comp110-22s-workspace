{
 "cells": [
  {
   "cell_type": "markdown",
   "metadata": {},
   "source": [
    "# Analysis for Continuous Improvement\n",
    "\n",
    "Author Name: Nicholas Poon\n",
    "\n",
    "9-digit PID: 730523706\n",
    "\n",
    "Continuous Improvement embraces a belief there is _always room to make things better_. It is a mindset and process we value and practice in this course. In this assignment, you are able to practice continuous improvement and contribute to the design ideas of the course.\n",
    "\n",
    "## Brainstorming Ideas\n",
    "\n",
    "Reflect on your personal experiences and observations in COMP110 and **brainstorm modifications to the course that _create value_ beyond its current design**. When brainstorming, try not to be critical of the ideas you come up with regarding scale, stakeholders impacted, or for any other reasons. In the markdown cell below, brainstorm 3 to 5 ideas you think would create value for you.\n",
    "\n",
    "Each brainstormed idea should state a. the suggested change or addition, b. what the expected value created, and c. which specific stakeholders would benefit.  If helpful, expand on the following template \"The course should (state idea here) because it will (state value created here) for (insert stakeholders here).\"\n",
    "\n",
    "Example A: \"The course should use only examples from psychology experiments because it will be more relevant for students who are psychology majors.\"\n",
    "\n",
    "Example B: \"The course should not have post-lesson questions because they are not useful for most students in the class.\""
   ]
  },
  {
   "cell_type": "markdown",
   "metadata": {},
   "source": [
    "### Part 1. Creative Ideation\n",
    "\n",
    "1. The course should use more examples using numerical data because it will be more relevant for students in the class who are statistics majors.\n",
    "2. The course should use online typed exams because it will be easier to grade online exams for the instructional staff.\n",
    "3. The course should have group assignments/exercises because it will build teamwork skills when coding for the students enrolled in the class.\n",
    "4. The course should have more frequent quizes because there will be less to study for in each quiz and more assignments to even out grades for the students enrolled in the class.\n",
    "5. The course should include optional more difficult exercises because it will engage and provide a challenge for the students with previous coding experience."
   ]
  },
  {
   "cell_type": "markdown",
   "metadata": {},
   "source": [
    "## Connecting with Available Data\n",
    "\n",
    "The data you have available for this analysis is limited to the anonymized course survey you and your peers filled out a few weeks ago. The data is found in the `survey.csv` file in this exercise directory. Each row represents an individual survey response. Each column has a description which can be found on the project write-up here: <https://22s.comp110.com/exercises/ex08.html>\n",
    "\n",
    "Review the list of available data and identify which one of your ideas _does not_, or is _least likely to_, have relevant data to support the analysis of your idea to create value. In the box below, identify which of your ideas lacks data and suggest how we might be able to collect this data in the future. One aspect of _continuous improvement_ is trying to avoid \"tunnel vision\" where possible improvements are not considered because there is no data available to analyze it. Identifying new data sources can unlock improvements!"
   ]
  },
  {
   "cell_type": "markdown",
   "metadata": {},
   "source": [
    "### Part 2. Identifying Missing Data\n",
    "\n",
    "1. Idea without sufficient data to analyze: The course should have group assignments/exercises because it will build teamwork skills when coding for the students enrolled in the class.\n",
    "\n",
    "2. Suggestion for how to collect data to support this idea in the future: To collect data on this we can survey the students of COMP 110 about their opinions of group work and projects(whether or not they... like to work in gorups, like to work alone, think that group work is benneficial in general, think that group work is beneficial in this class, have worked with others in order to complete assignment in this class already)."
   ]
  },
  {
   "cell_type": "markdown",
   "metadata": {},
   "source": [
    "## Choosing an Idea to Analyze\n",
    "\n",
    "Consider those of your ideas which _do_ seem likely to have relevant data to analyze. If none of your ideas do, spend a few minutes and brainstorm another idea or two with the added connection of data available on hand and add those ideas to your brainstormed ideas list.\n",
    "\n",
    "Select the one idea which you believe is _most valuable_ to analyze relative to the others and has data to support the analysis of. In the markdown cell for Part 3 below, identify the idea you are exploring and articulate why you believe it is most valuable (e.g. widest impact, biggest opportunity for improvement, simplest change for significant improvement, and so on)."
   ]
  },
  {
   "cell_type": "markdown",
   "metadata": {},
   "source": [
    "### Part 3. Choosing Your Analysis\n",
    "\n",
    "1. Idea to analyze with available data: The course should include optional more difficult exercises because it will engage and provide a challenge for the students with previous coding experience.\n",
    "\n",
    "2. This idea is more valuable than the others brainstormed because: This is the most valuable idea because not only is the sufficient dta from the survey to prove or disprove it, but this idea leads to the most improvement in coding for all of the students in the class by giving the more experienced coders and coders finding the class easy a chance to really get their gears moving and write some more complex code, solving more complex problems.\n"
   ]
  },
  {
   "cell_type": "markdown",
   "metadata": {},
   "source": [
    "## Your Analysis\n",
    "\n",
    "Before you begin analysis, a reminder that we do not expect the data to support everyone's ideas and you can complete this exercise for full credit even if the data does not clearly support your suggestion or even completely refutes it. What we are looking for is a logical attempt to explore the data using the techniques you have learned up until now in a way that _either_ supports, refutes, or does not have a clear result and then to reflect on your findings after the analysis.\n",
    "\n",
    "Using the utility functions you created for the previous exercise, you will continue with your analysis in the following part. Before you begin, refer to the rubric on the technical expectations of this section in the exercise write-up.\n",
    "\n",
    "In this section, you are expected to interleave code and markdown cells such that for each step of your analysis you are starting with an English description of what you are planning to do next in a markdown cell, followed by a Python cell that performs that step of the analysis."
   ]
  },
  {
   "cell_type": "markdown",
   "metadata": {},
   "source": [
    "### Part 4. Analysis\n",
    "\n",
    "We begin by changing some settings in the notebook to automatically reload changes to imported files."
   ]
  },
  {
   "cell_type": "code",
   "execution_count": 82,
   "metadata": {},
   "outputs": [],
   "source": [
    "%reload_ext autoreload\n",
    "%autoreload 2"
   ]
  },
  {
   "cell_type": "markdown",
   "metadata": {},
   "source": [
    "We continue by importing the helper functions from `data_utils`."
   ]
  },
  {
   "cell_type": "code",
   "execution_count": 83,
   "metadata": {},
   "outputs": [],
   "source": [
    "# TODO: You complete the code blocks from here forward!\n",
    "from data_utils import read_csv_rows, columnar, head, select, count, combine"
   ]
  },
  {
   "cell_type": "markdown",
   "metadata": {},
   "source": [
    "Next, Create a Data File Path and use `read_csv_rows` to read the rows of the CSV survey data to put it into a table and print out the File name, number of rows, number of column, and names of the columns"
   ]
  },
  {
   "cell_type": "code",
   "execution_count": 84,
   "metadata": {},
   "outputs": [
    {
     "name": "stdout",
     "output_type": "stream",
     "text": [
      "Data File Read: ../../data/survey.csv\n",
      "620 rows\n",
      "35 columns\n",
      "Columns names: dict_keys(['row', 'year', 'unc_status', 'comp_major', 'primary_major', 'data_science', 'prereqs', 'prior_exp', 'ap_principles', 'ap_a', 'other_comp', 'prior_time', 'languages', 'hours_online_social', 'hours_online_work', 'lesson_time', 'sync_perf', 'all_sync', 'flipped_class', 'no_hybrid', 'own_notes', 'own_examples', 'oh_visits', 'ls_effective', 'lsqs_effective', 'programming_effective', 'qz_effective', 'oh_effective', 'tutoring_effective', 'pace', 'difficulty', 'understanding', 'interesting', 'valuable', 'would_recommend'])\n"
     ]
    }
   ],
   "source": [
    "SURVEY_DATA_CSV_FILE_PATH: str = \"../../data/survey.csv\"\n",
    "data_rows: list[dict[str, str]] = read_csv_rows(SURVEY_DATA_CSV_FILE_PATH)\n",
    "\n",
    "print(f\"Data File Read: {SURVEY_DATA_CSV_FILE_PATH}\")\n",
    "print(f\"{len(data_rows)} rows\")\n",
    "print(f\"{len(data_rows[0].keys())} columns\")\n",
    "print(f\"Columns names: {data_rows[0].keys()}\")"
   ]
  },
  {
   "cell_type": "markdown",
   "metadata": {},
   "source": [
    "Next, Convert the data file into a column-oriented table using `columnar` which is need to use the later funtions"
   ]
  },
  {
   "cell_type": "code",
   "execution_count": 85,
   "metadata": {},
   "outputs": [],
   "source": [
    "column_table: dict[str, list[str]] = columnar(data_rows)"
   ]
  },
  {
   "cell_type": "markdown",
   "metadata": {},
   "source": [
    "Next, Use the `select` function to only show the columns of the data that are important to the idea. (prior_exp, ap_principles, ap_a, prior_time, difficulty, understanding)"
   ]
  },
  {
   "cell_type": "code",
   "execution_count": 86,
   "metadata": {},
   "outputs": [],
   "source": [
    "columns: list[str] = [\"prior_exp\", \"ap_principles\", \"ap_a\", \"prior_time\", \"difficulty\", \"understanding\"]\n",
    "selected_table: dict[str, list[str]] = select(column_table, columns)"
   ]
  },
  {
   "cell_type": "markdown",
   "metadata": {},
   "source": [
    "Next, Use the `head` function to make sure that the `columnar` and `select` functions worked correctly by checking a few of the rows"
   ]
  },
  {
   "cell_type": "code",
   "execution_count": 87,
   "metadata": {},
   "outputs": [
    {
     "data": {
      "text/plain": [
       "{'prior_exp': ['7-12 months',\n",
       "  'None to less than one month!',\n",
       "  'None to less than one month!'],\n",
       " 'ap_principles': ['No', '', ''],\n",
       " 'ap_a': ['No', '', ''],\n",
       " 'prior_time': ['1 month or so', '', ''],\n",
       " 'difficulty': ['1', '6', '4'],\n",
       " 'understanding': ['7', '3', '6']}"
      ]
     },
     "execution_count": 87,
     "metadata": {},
     "output_type": "execute_result"
    }
   ],
   "source": [
    "table_check: dict[str, list[str]] = head(selected_table, 3)\n",
    "table_check"
   ]
  },
  {
   "cell_type": "markdown",
   "metadata": {},
   "source": [
    "Next, Use the `count` function to count the survey results in each column of the selected data table"
   ]
  },
  {
   "cell_type": "code",
   "execution_count": 88,
   "metadata": {},
   "outputs": [
    {
     "name": "stdout",
     "output_type": "stream",
     "text": [
      "prior_exp: {'7-12 months': 59, 'None to less than one month!': 369, '2-6 months': 142, '1-2 years': 31, 'Over 2 years': 19}\n",
      "ap_principles: {'No': 162, '': 369, 'Yes': 89}\n",
      "ap_a: {'No': 186, '': 369, 'Yes': 65}\n",
      "prior_time: {'1 month or so': 69, '': 369, 'None to less than one month!': 102, '7-12 months': 14, '2-6 months': 49, '1-2 years': 10, '> 2 years': 7}\n",
      "difficulty: {'1': 23, '6': 88, '4': 160, '5': 155, '3': 84, '7': 56, '2': 54}\n",
      "understanding{'7': 74, '3': 68, '6': 182, '5': 172, '4': 82, '2': 28, '1': 14}\n"
     ]
    }
   ],
   "source": [
    "prior_exp: dict[str,int] = count(selected_table[\"prior_exp\"])\n",
    "print(f\"prior_exp: {prior_exp}\")\n",
    "ap_principles: dict[str,int] = count(selected_table[\"ap_principles\"])\n",
    "print(f\"ap_principles: {ap_principles}\")\n",
    "ap_a: dict[str,int] = count(selected_table[\"ap_a\"])\n",
    "print(f\"ap_a: {ap_a}\")\n",
    "prior_time: dict[str,int] = count(selected_table[\"prior_time\"])\n",
    "print(f\"prior_time: {prior_time}\")\n",
    "difficulty: dict[str,int] = count(selected_table[\"difficulty\"])\n",
    "print(f\"difficulty: {difficulty}\")\n",
    "understanding: dict[str,int] = count(selected_table[\"understanding\"])\n",
    "print(f\"understanding{understanding}\")"
   ]
  },
  {
   "cell_type": "markdown",
   "metadata": {},
   "source": [
    "Last, Use the `combine` funtion to combine the values of a range of keys in the data(Sorting from `high rated/long time` to `low rate/short time` to `N/A`)"
   ]
  },
  {
   "cell_type": "code",
   "execution_count": 89,
   "metadata": {},
   "outputs": [
    {
     "name": "stdout",
     "output_type": "stream",
     "text": [
      "prior_exp ~ > 1 months: 251, 1 month or less: 369, N/A: 0\n",
      "ap_principles ~ Yes: 89, No: 531, N/A: 369\n",
      "ap_a ~ Yes: 65, No: 555, N/A: 369\n",
      "prior_time ~ > 1 months: 80, 1 month or less: 171, N/A: 369\n",
      "difficulty ~ 4-7: 459, 1-3: 161, N/A: 0\n",
      "understanding ~ 4-7: 510, 1-3: 110, N/A: 0\n"
     ]
    }
   ],
   "source": [
    "positive_exp_keys: list[str] = ['Over 2 years', '1-2 years', '7-12 months', '2-6 months']\n",
    "negative_exp_keys: list[str] = ['None to less than one month!']\n",
    "positive_time_keys: list[str] = ['> 2 years', '1-2 years', '7-12 months', '2-6 months']\n",
    "negative_time_keys: list[str] = ['None to less than one month!', '1 month or so']\n",
    "no_keys: list[str] = ['', 'No']\n",
    "yes_keys: list[str] = ['Yes']\n",
    "positive_rating_keys: list[str] = ['7', '6', '5', '4']\n",
    "negative_rating_keys: list[str] = ['1', '2', '3']\n",
    "no_answer: list[str] = ['']\n",
    "print(f\"prior_exp ~ > 1 months: {combine(prior_exp, positive_exp_keys)}, 1 month or less: {combine(prior_exp, negative_exp_keys)}, N/A: {combine(prior_exp, no_answer)}\")\n",
    "print(f\"ap_principles ~ Yes: {combine(ap_principles, yes_keys)}, No: {combine(ap_principles, no_keys)}, N/A: {combine(ap_principles, no_answer)}\")\n",
    "print(f\"ap_a ~ Yes: {combine(ap_a, yes_keys)}, No: {combine(ap_a, no_keys)}, N/A: {combine(ap_a, no_answer)}\")\n",
    "print(f\"prior_time ~ > 1 months: {combine(prior_time, positive_time_keys)}, 1 month or less: {combine(prior_time, negative_time_keys)}, N/A: {combine(prior_time, no_answer)}\")\n",
    "print(f\"difficulty ~ 4-7: {combine(difficulty, positive_rating_keys)}, 1-3: {combine(difficulty, negative_rating_keys)}, N/A: {combine(difficulty, no_answer)}\")\n",
    "print(f\"understanding ~ 4-7: {combine(understanding, positive_rating_keys)}, 1-3: {combine(understanding, negative_rating_keys)}, N/A: {combine(understanding, no_answer)}\")"
   ]
  },
  {
   "cell_type": "markdown",
   "metadata": {},
   "source": [
    "## Conclusion\n",
    "\n",
    "In the following markdown cell, write a reflective conclusion given the analysis you performed and identify recommendations.\n",
    "\n",
    "If your analysis of the data supports your idea, state your recommendation for the change and summarize the data analysys results you found which support it. Additionally, describe any extensions or refinements to this idea which might be explored further. Finally, discuss the potential costs, trade-offs, or stakeholders who may be negatively impacted by this proposed change.\n",
    "\n",
    "If your analysis of the data is inconclusive, summarize why your data analysis results were inconclusive in the support of your idea. Additionally, describe what experimental idea implementation or additional data collection might help build more confidence in assessing your idea. Finally, discuss the potential costs, trade-offs, or stakeholders who may be negatively impacted by experimenting with your idea.\n",
    "\n",
    "Finally, if your analysis of the data does not support it, summarize your data analysis results and why it refutes your idea. Discuss the potential costs, trade-offs, or stakeholders who may be negatively impacted by this proposed change. If you disagree with the validity of the findings, describe why your idea still makes sense to implement and what alternative data would better support it. If you agree with the validity of the data analysis, describe what alternate ideas or extensions you would explore instead. "
   ]
  },
  {
   "cell_type": "markdown",
   "metadata": {},
   "source": [
    "### Part 5. Conclusion\n",
    "\n",
    "After conducting a data analysis I have conluded that the data supports my idea to an extent. While there are still other questions that can be asked to the students to further prove this conclusion, there is enough evidence to give the idea a trial and error run. In the data analysis you can see that there are plenty of students in the class that have had some sort of coding or computer scinece experience. This proves that the stakeholders im looking at are there. On top of that you can see that the majority of the class are finding the class not very difficult and have a good understanding of the contents in the class. This proves that there is more the instructors can do to challenge these stakeholders, since they are finding the class fairly easy. I recommend that for each exercise the instuctor can post a different more challenging one that is optional to try, but if they try and succeed at it, this more challening exercise can take the place as the original exercise in the gradebook and they will not have to do the original exercise. The downsides of this idea is that it may cause the student to spend more time on each exercise that they normally would, if the student quits the harder exercise half-way through they would've wasted all that time, and the student may get a worse grade for trying to challenge themselves. Some extentions or refienments to my idea are there could be multiple levels of difficulty for the assignments(not just standard and hard), the challenging exercises shouldbe allowed for any student in the class who feels ready for it not just the ones with pervious experience, and these more difficult exercises should have student be allowed to work and discuss on them together."
   ]
  }
 ],
 "metadata": {
  "interpreter": {
   "hash": "aee8b7b246df8f9039afb4144a1f6fd8d2ca17a180786b69acc140d282b71a49"
  },
  "kernelspec": {
   "display_name": "Python 3.10.2 64-bit",
   "language": "python",
   "name": "python3"
  },
  "language_info": {
   "codemirror_mode": {
    "name": "ipython",
    "version": 3
   },
   "file_extension": ".py",
   "mimetype": "text/x-python",
   "name": "python",
   "nbconvert_exporter": "python",
   "pygments_lexer": "ipython3",
   "version": "3.10.1"
  },
  "orig_nbformat": 4
 },
 "nbformat": 4,
 "nbformat_minor": 2
}
